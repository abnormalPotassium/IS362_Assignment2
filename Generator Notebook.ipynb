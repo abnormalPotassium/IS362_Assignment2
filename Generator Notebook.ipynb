{
 "cells": [
  {
   "cell_type": "markdown",
   "metadata": {},
   "source": [
    "# Generators\n",
    "\n",
    "### The Problem\n",
    "\n",
    "I've never really had much experience using generators in Python despite the numerous classes that I've taken with them. Although I can understand the concept, the actual code that implements generators messes with my head. Which might not be surprising due to my unfamiliarity with them. The thing that specifically tripped me up was how generators are functions despite all the other data structures I've worked with not being traditionally framed as functions.\n",
    "\n",
    "### A Typical Generator"
   ]
  },
  {
   "cell_type": "code",
   "execution_count": 4,
   "metadata": {},
   "outputs": [],
   "source": [
    "def generator(n):\n",
    "    i = 0\n",
    "    while i < n:\n",
    "        yield i\n",
    "        i += 1"
   ]
  },
  {
   "cell_type": "markdown",
   "metadata": {},
   "source": [
    "\n",
    "### Explaining The Generator\n",
    "\n",
    "The structure of a generator function is pretty simple. You start with where you want to begin generating the numbers which in this case is:\n",
    "\n",
    "```i = 0```\n",
    "\n",
    "Then you set a loop condition based on the argument that is input which will gives us our multiple different values. Which here is a nice and simple:\n",
    "\n",
    "```while i < n:```\n",
    "\n",
    "The reason that generators are able to work as data structures instead of just returning single values like a typical simple funtions comes from the magic of the yield operator:\n",
    "\n",
    "```yield i```\n",
    "\n",
    "The yield function outputs the value it is told to yield without exiting the function. This allows our loop to not break on the first loop and continue looping until the condition is met. Ensuring our condition is met and giving us a rule for which numbers we want to generate is:\n",
    "\n",
    "```i += 1```\n",
    "\n",
    "### Using Generators"
   ]
  },
  {
   "cell_type": "code",
   "execution_count": 5,
   "metadata": {},
   "outputs": [
    {
     "name": "stdout",
     "output_type": "stream",
     "text": [
      "0\n",
      "1\n",
      "2\n",
      "3\n",
      "4\n",
      "5\n",
      "6\n",
      "7\n",
      "8\n",
      "9\n"
     ]
    }
   ],
   "source": [
    "for i in generator(10):\n",
    "    print(i)"
   ]
  },
  {
   "cell_type": "markdown",
   "metadata": {},
   "source": [
    "### Explaining Their Usefulness\n",
    "\n",
    "As you can see, the result of this code block is functionally identical to looping through a list of numbers 0-9. So, it would be appropriate to question why you would want to use a generator. Generators are used because they take up less memory at a time compared to lists, lists have to have memory reserved for every member of the list. While generators only need memory for the number that is generated in the moment. There is a caveat though, you can't iterate through a generator multiple times. A list would be a more useful structure to use if you wanted to go through multiple times."
   ]
  },
  {
   "cell_type": "code",
   "execution_count": null,
   "metadata": {},
   "outputs": [],
   "source": []
  }
 ],
 "metadata": {
  "kernelspec": {
   "display_name": "Python 3",
   "language": "python",
   "name": "python3"
  },
  "language_info": {
   "codemirror_mode": {
    "name": "ipython",
    "version": 3
   },
   "file_extension": ".py",
   "mimetype": "text/x-python",
   "name": "python",
   "nbconvert_exporter": "python",
   "pygments_lexer": "ipython3",
   "version": "3.7.4"
  }
 },
 "nbformat": 4,
 "nbformat_minor": 4
}
